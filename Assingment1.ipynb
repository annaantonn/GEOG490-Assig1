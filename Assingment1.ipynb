{
 "cells": [
  {
   "cell_type": "code",
   "execution_count": 1,
   "id": "656fd9eb",
   "metadata": {},
   "outputs": [],
   "source": [
    "import numpy as np\n"
   ]
  },
  {
   "cell_type": "code",
   "execution_count": 2,
   "id": "be6f53d2",
   "metadata": {},
   "outputs": [
    {
     "data": {
      "text/plain": [
       "18"
      ]
     },
     "execution_count": 2,
     "metadata": {},
     "output_type": "execute_result"
    }
   ],
   "source": [
    "9+9\n"
   ]
  },
  {
   "cell_type": "code",
   "execution_count": 3,
   "id": "2634499d",
   "metadata": {},
   "outputs": [
    {
     "data": {
      "text/plain": [
       "8"
      ]
     },
     "execution_count": 3,
     "metadata": {},
     "output_type": "execute_result"
    }
   ],
   "source": [
    "9-1"
   ]
  },
  {
   "cell_type": "code",
   "execution_count": 4,
   "id": "ab3da645",
   "metadata": {},
   "outputs": [
    {
     "data": {
      "text/plain": [
       "18"
      ]
     },
     "execution_count": 4,
     "metadata": {},
     "output_type": "execute_result"
    }
   ],
   "source": [
    "9*2\n"
   ]
  },
  {
   "cell_type": "markdown",
   "id": "d1bbb0a3",
   "metadata": {},
   "source": [
    "![Waterfalls are beautiful!](images/mult_falls_2.jpg \"Multnomah Falls\")"
   ]
  },
  {
   "cell_type": "markdown",
   "id": "e487140f",
   "metadata": {},
   "source": [
    "![Waterfalls are beautiful!](https://www.travelportland.com/wp-content/uploads/2019/08/cropped-NR_Nearby_ColumbiaGorge_MultnomahFalls_99837764_shutterstock_tusharkoley-.jpg)\n",
    "\n",
    "<em>Multnomah Falls</em> is a **beautiful** waterfall in Oregon. It is the largest waterfall in Oregon. \n",
    "\n"
   ]
  },
  {
   "cell_type": "markdown",
   "id": "32a1f75c",
   "metadata": {},
   "source": [
    "<h1>Assignment1</h1>"
   ]
  },
  {
   "cell_type": "markdown",
   "id": "e704e519",
   "metadata": {},
   "source": [
    "<h2>Anna Anton github username: annaantonn</h2>"
   ]
  },
  {
   "cell_type": "markdown",
   "id": "d0635193",
   "metadata": {},
   "source": [
    "<h3>January 12, 2023</h3>"
   ]
  },
  {
   "cell_type": "code",
   "execution_count": null,
   "id": "5bd107d1",
   "metadata": {},
   "outputs": [],
   "source": []
  }
 ],
 "metadata": {
  "kernelspec": {
   "display_name": "Python 3 (ipykernel)",
   "language": "python",
   "name": "python3"
  },
  "language_info": {
   "codemirror_mode": {
    "name": "ipython",
    "version": 3
   },
   "file_extension": ".py",
   "mimetype": "text/x-python",
   "name": "python",
   "nbconvert_exporter": "python",
   "pygments_lexer": "ipython3",
   "version": "3.10.8"
  }
 },
 "nbformat": 4,
 "nbformat_minor": 5
}
